{
 "cells": [
  {
   "cell_type": "markdown",
   "metadata": {},
   "source": [
    "## Python Blackjack\n",
    "For this project you will make a Blackjack game using Python. Click <a href=\"http://www.hitorstand.net/strategy.php\">here</a> to familiarize yourself with the the rules of the game. You won't be implementing every rule \"down to the letter\" with the game, but we will doing a simpler version of the game. This assignment will be given to further test your knowledge on object-oriented programming concepts.\n",
    "\n",
    "### Rules:\n",
    "\n",
    "`1. ` The game will have two players: the Dealer and the Player. The game will start off with a deck of 52 cards. The 52 cards will consist of 4 different suits: Clubs, Diamonds, Hearts and Spades. For each suit, there will be cards numbered 1 through 13. <br>\n",
    "**Note: No wildcards will be used in the program**\n",
    "\n",
    "`2. ` When the game begins, the dealer will shuffle the deck of cards, making them randomized. After the dealer shuffles, it will deal the player 2 cards and will deal itself 2 cards from. The Player should be able to see both of their own cards, but should only be able to see one of the Dealer's cards.\n",
    " \n",
    "`3. ` The objective of the game is for the Player to count their cards after they're dealt. If they're not satisfied with the number, they have the ability to 'Hit'. A hit allows the dealer to deal the Player one additional card. The Player can hit as many times as they'd like as long as they don't 'Bust'. A bust is when the Player is dealt cards that total more than 21.\n",
    "\n",
    "`4. ` If the dealer deals the Player cards equal to 21 on the **first** deal, the Player wins. This is referred to as Blackjack. Blackjack is **NOT** the same as getting cards that equal up to 21 after the first deal. Blackjack can only be attained on the first deal.\n",
    "\n",
    "`5. ` The Player will never see the Dealer's hand until the Player chooses to 'stand'. A Stand is when the player tells the dealer to not deal it anymore cards. Once the player chooses to Stand, the Player and the Dealer will compare their hands. Whoever has the higher number wins. Keep in mind that the Dealer can also bust. "
   ]
  },
  {
   "cell_type": "code",
   "execution_count": 1,
   "metadata": {
    "scrolled": true
   },
   "outputs": [],
   "source": [
    "import random"
   ]
  },
  {
   "cell_type": "code",
   "execution_count": 2,
   "metadata": {},
   "outputs": [],
   "source": [
    "class Card:\n",
    "    def __init__(self, suit, face):\n",
    "        self.suit = suit\n",
    "        self.face = face\n",
    "        if self.face in {'Jack', 'Queen', 'King', }:\n",
    "            self.value = 10\n",
    "        elif self.face == 'Ace':\n",
    "            self.value = 11\n",
    "        else:\n",
    "            self.value = self.face\n",
    "\n",
    "    def __str__(self):\n",
    "        return f'{self.face} of {self.suit}'\n",
    "\n",
    "    def __repr__(self):\n",
    "        return f\"<Card | {self.face} of {self.suit}\""
   ]
  },
  {
   "cell_type": "code",
   "execution_count": 3,
   "metadata": {},
   "outputs": [],
   "source": [
    "class Deck:\n",
    "    def __init__(self):\n",
    "        self.decklist = []\n",
    "    \n",
    "    def generate_deck(self):\n",
    "        suits = ['Hearts', 'Diamonds', 'Spades', 'Clubs']\n",
    "        faces = [2, 3, 4, 5, 6, 7, 8, 9, 10, 'Jack', 'Queen', 'King', 'Ace']\n",
    "        self.decklist = [Card(suit, face) for suit in suits for face in faces]\n",
    "        return self.decklist\n",
    "        \n",
    "    def print_deck(self):\n",
    "        print(f\"There are {len(self.decklist)} cards left in the decklist.\")\n",
    "        for card in self.decklist:\n",
    "            print(f\"{card.face} of {card.suit}\")\n",
    "\n",
    "    def randomize_deck(self):\n",
    "        random.shuffle(self.decklist)\n",
    "\n",
    "    def deal_single_card(self, dealerdeck):\n",
    "        single_card = dealerdeck.decklist.pop(0)\n",
    "        return single_card\n",
    "        \n",
    "        "
   ]
  },
  {
   "cell_type": "code",
   "execution_count": 4,
   "metadata": {},
   "outputs": [],
   "source": [
    "class Person:\n",
    "    def __init__(self, name):\n",
    "        self.name = name.title()\n",
    "        self.hand = []\n",
    "\n",
    "    def add_to_hand(self, name, card):\n",
    "        name.hand.append(card)\n",
    "        print(self.hand)\n",
    "\n",
    "    def show_hand(self):\n",
    "        if self.hand:\n",
    "            for card in self.hand:\n",
    "                print(card)\n",
    "        else:\n",
    "            print(\"Your hand is empty.\")\n",
    "        \n",
    "\n",
    "    def hand_total(self):\n",
    "        ace = 0\n",
    "        total = sum([card.value for card in self.hand if card.face != 'Ace'])\n",
    "        ace   = sum([ace + 1 for card in self.hand if card.face == 'Ace' ])\n",
    "        \n",
    "        if ace > 0:\n",
    "            for i in range(ace):\n",
    "                if total + 11 > 21:\n",
    "                    total += 1\n",
    "                else:\n",
    "                    total += 11\n",
    "\n",
    "        # total = 0\n",
    "        # for card in self.hand:\n",
    "        #     if card.face == 'Ace':\n",
    "        #         ace += 1\n",
    "        #         continue\n",
    "        #     total += card.value\n",
    "        # if ace:\n",
    "        #     if (total + 11) > 21:\n",
    "        #         total += 1\n",
    "        #     else:\n",
    "        #         total += 11\n",
    "        return total\n",
    "    \n",
    "    def __str__(self):\n",
    "        return self.name\n",
    "\n",
    "    def __repr__(self):\n",
    "        print(f\"<Person | {self.name} {self.hand}\")\n"
   ]
  },
  {
   "cell_type": "code",
   "execution_count": 5,
   "metadata": {},
   "outputs": [],
   "source": [
    "class Player(Person):\n",
    "    def __init__(self, name, cash):\n",
    "        super().__init__(name)\n",
    "        self.cash = cash\n",
    "        self.bet = 0"
   ]
  },
  {
   "cell_type": "code",
   "execution_count": 6,
   "metadata": {},
   "outputs": [],
   "source": [
    "class Dealer(Person):\n",
    "    def __init__(self, name):\n",
    "        super().__init__(name)\n",
    "        self.dealerDeck = Deck()\n",
    "\n",
    "    def gen_deck(self):\n",
    "        self.dealerDeck.generate_deck()\n",
    "\n",
    "    def shuffle(self):\n",
    "        self.dealerDeck.randomize_deck()\n",
    "\n",
    "    def deal_card(self, name, times):\n",
    "        # print(self.deck.deck)\n",
    "        # loop for each time card dealt\n",
    "        for i in range(times):\n",
    "            rand_card = self.dealerDeck.deal_single_card(self.dealerDeck)\n",
    "            name.hand.append(rand_card)\n",
    "\n",
    "    def reveal_first_card(self):\n",
    "        print(f\"The dealers face up card is {self.hand[0]}\")\n",
    "        "
   ]
  },
  {
   "cell_type": "code",
   "execution_count": 7,
   "metadata": {},
   "outputs": [],
   "source": [
    "def blackjack():\n",
    "    players = []\n",
    "    player_quit = False\n",
    "    # Generate Dealer, create / shuffle deck\n",
    "    potentialdealers = [\"Lilja\", \"Elviira\", \"Jakub\", \"Slagathor\", \"Bob\"]\n",
    "    dealer = potentialdealers[random.randint(0, len(potentialdealers)-1)]\n",
    "    dealer = Dealer(dealer)\n",
    "    dealer.gen_deck()\n",
    "    dealer.shuffle()\n",
    "\n",
    "    # Main Game Loop\n",
    "    while True:\n",
    "\n",
    "        # Add players\n",
    "        while True:\n",
    "            player_name = input(\"What is your name: \")\n",
    "            player_cash  = input(\"How much do you have to bet: \")\n",
    "            new_player = Player(player_name, player_cash)\n",
    "            players.append(new_player)\n",
    "\n",
    "            # Add another player or continue with game.\n",
    "            cont = input(\"Would you like to add a new player? (Y/N) \").lower()\n",
    "            while cont not in {'y', 'n'}:\n",
    "                cont = input(\"Please enter either 'Y' or 'N'\").lower()\n",
    "            \n",
    "            if cont == 'n':\n",
    "                break\n",
    "\n",
    "        # Game starts here, restart skips creating players\n",
    "        while True:\n",
    "            # deal starter cards to players\n",
    "            for player in players: \n",
    "                print(player)\n",
    "                dealer.deal_card(player, 2)\n",
    "                print(\"-----\")\n",
    "                player.show_hand()\n",
    "                print(player.hand_total())\n",
    "                print(\"-----\")\n",
    "                \n",
    "                # test for blackjack\n",
    "                if player.hand_total() == 21:\n",
    "                    print(f\"Congratulations {player.name}! Starting hand of 21 is a Blackjack and you win.\")\n",
    "                    #player bet thing \n",
    "                    player_quit = True\n",
    "            if player_quit:\n",
    "                break\n",
    "\n",
    "            # deal dealer first card\n",
    "            dealer.deal_card(dealer, 2)\n",
    "            dealer.reveal_first_card()\n",
    "\n",
    "\n",
    "\n",
    "\n",
    "\n",
    "\n",
    "\n",
    "        # Quit game\n",
    "        break\n",
    "\n",
    "    \n",
    "\n",
    "    #make players\n",
    "    #dealer gives out card\n",
    "    #check total of players hand\n",
    "    # if total 21 = blackjack\n",
    "    #take player bets\n",
    "\n",
    "    # while bets True\n",
    "    #do thing\n",
    "\n",
    "\n",
    "\n",
    "    #dont' forget to break out of loop\n",
    "\n",
    "\n",
    "\n"
   ]
  },
  {
   "cell_type": "code",
   "execution_count": 21,
   "metadata": {},
   "outputs": [
    {
     "name": "stdout",
     "output_type": "stream",
     "text": [
      "Nathan\n",
      "-----\n",
      "King of Diamonds\n",
      "9 of Clubs\n",
      "19\n",
      "-----\n",
      "The dealers face up card is 8 of Diamonds\n"
     ]
    }
   ],
   "source": [
    "blackjack()"
   ]
  },
  {
   "cell_type": "code",
   "execution_count": 24,
   "metadata": {},
   "outputs": [
    {
     "name": "stdout",
     "output_type": "stream",
     "text": [
      "Ace of Spades\n",
      "King of Hearts\n"
     ]
    },
    {
     "data": {
      "text/plain": [
       "21"
      ]
     },
     "execution_count": 24,
     "metadata": {},
     "output_type": "execute_result"
    }
   ],
   "source": [
    "#blackjack test\n",
    "# blackjacktest = Player('BJ', 10000)\n",
    "\n",
    "# ace_test = Card('Spades', 'Ace')\n",
    "# ten_test = Card('Hearts', 'King')\n",
    "\n",
    "# blackjacktest.hand = [ace_test, ten_test]\n",
    "\n",
    "# blackjacktest.show_hand()\n",
    "# blackjacktest.hand_total()\n"
   ]
  },
  {
   "cell_type": "code",
   "execution_count": 9,
   "metadata": {},
   "outputs": [],
   "source": [
    "# tricia = Dealer('Tricia')\n",
    "# tricia.gen_deck()\n",
    "# tricia.shuffle()\n",
    "# tricia.deck.print_deck()"
   ]
  },
  {
   "cell_type": "code",
   "execution_count": 10,
   "metadata": {},
   "outputs": [],
   "source": [
    "# nathan = Player('Nathan', 100)"
   ]
  },
  {
   "cell_type": "code",
   "execution_count": 11,
   "metadata": {},
   "outputs": [],
   "source": [
    "# tricia.deal_card(tricia, 1)\n",
    "# tricia.show_hand()"
   ]
  },
  {
   "cell_type": "code",
   "execution_count": 12,
   "metadata": {},
   "outputs": [],
   "source": [
    "# tricia.deal_card(nathan, 2)\n",
    "# nathan.show_hand()"
   ]
  },
  {
   "cell_type": "code",
   "execution_count": 13,
   "metadata": {},
   "outputs": [],
   "source": [
    "# nathan.hand_total()"
   ]
  },
  {
   "cell_type": "code",
   "execution_count": 14,
   "metadata": {},
   "outputs": [],
   "source": [
    "# tricia.dealerDeck.print_deck()"
   ]
  },
  {
   "cell_type": "code",
   "execution_count": 15,
   "metadata": {},
   "outputs": [],
   "source": [
    "# temp_deck = Deck()\n",
    "# temp_deck.generate_deck()\n",
    "# temp_deck.randomize_deck()"
   ]
  },
  {
   "cell_type": "code",
   "execution_count": 16,
   "metadata": {},
   "outputs": [],
   "source": [
    "# p1 = Player('Slagathor')\n",
    "# p2 = Player('Bob')"
   ]
  },
  {
   "cell_type": "code",
   "execution_count": 17,
   "metadata": {},
   "outputs": [],
   "source": [
    "# p1.add_to_hand()"
   ]
  },
  {
   "cell_type": "code",
   "execution_count": 18,
   "metadata": {},
   "outputs": [],
   "source": [
    "# p1.show_hand()"
   ]
  },
  {
   "cell_type": "code",
   "execution_count": 19,
   "metadata": {},
   "outputs": [],
   "source": [
    "# p2.show_hand()"
   ]
  },
  {
   "cell_type": "code",
   "execution_count": 20,
   "metadata": {},
   "outputs": [],
   "source": [
    "# temp_deck.print_deck()\n",
    "# print(len(temp_deck.deck))"
   ]
  },
  {
   "cell_type": "code",
   "execution_count": null,
   "metadata": {},
   "outputs": [],
   "source": []
  },
  {
   "cell_type": "code",
   "execution_count": null,
   "metadata": {},
   "outputs": [],
   "source": []
  }
 ],
 "metadata": {
  "kernelspec": {
   "display_name": "Python 3",
   "language": "python",
   "name": "python3"
  },
  "language_info": {
   "codemirror_mode": {
    "name": "ipython",
    "version": 3
   },
   "file_extension": ".py",
   "mimetype": "text/x-python",
   "name": "python",
   "nbconvert_exporter": "python",
   "pygments_lexer": "ipython3",
   "version": "3.9.10"
  }
 },
 "nbformat": 4,
 "nbformat_minor": 2
}
